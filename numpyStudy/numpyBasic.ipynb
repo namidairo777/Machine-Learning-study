{
 "cells": [
  {
   "cell_type": "code",
   "execution_count": 1,
   "metadata": {
    "collapsed": true
   },
   "outputs": [],
   "source": [
    "from numpy import *"
   ]
  },
  {
   "cell_type": "code",
   "execution_count": 2,
   "metadata": {
    "collapsed": false
   },
   "outputs": [
    {
     "data": {
      "text/plain": [
       "array([[ 0.30920536,  0.7560181 ,  0.65894068,  0.8775558 ],\n",
       "       [ 0.91969471,  0.95959826,  0.75044493,  0.77197728],\n",
       "       [ 0.82323493,  0.44332857,  0.69791546,  0.85870513],\n",
       "       [ 0.32627377,  0.45222041,  0.43738437,  0.13712411]])"
      ]
     },
     "execution_count": 2,
     "metadata": {},
     "output_type": "execute_result"
    }
   ],
   "source": [
    "random.rand(4, 4)"
   ]
  },
  {
   "cell_type": "code",
   "execution_count": 4,
   "metadata": {
    "collapsed": false
   },
   "outputs": [
    {
     "data": {
      "text/plain": [
       "matrix([[ 1.32950126, -1.83159209,  0.70919862, -0.14274971],\n",
       "        [-2.42126709,  1.32703788, -1.27631765,  3.34973195],\n",
       "        [-1.78891944,  0.49680342,  1.26914131,  0.32066021],\n",
       "        [ 2.1763624 ,  0.47020756,  0.07436638, -2.52932349]])"
      ]
     },
     "execution_count": 4,
     "metadata": {},
     "output_type": "execute_result"
    }
   ],
   "source": [
    "randMat = mat(random.rand(4, 4))\n",
    "#inverse matrix\n",
    "randMat.I"
   ]
  },
  {
   "cell_type": "code",
   "execution_count": 5,
   "metadata": {
    "collapsed": false
   },
   "outputs": [
    {
     "data": {
      "text/plain": [
       "matrix([[  1.00000000e+00,   3.88578059e-16,  -4.16333634e-17,\n",
       "           4.44089210e-16],\n",
       "        [  0.00000000e+00,   1.00000000e+00,  -1.38777878e-16,\n",
       "           4.44089210e-16],\n",
       "        [  0.00000000e+00,   5.55111512e-17,   1.00000000e+00,\n",
       "           0.00000000e+00],\n",
       "        [ -2.22044605e-16,   3.88578059e-16,  -2.08166817e-16,\n",
       "           1.00000000e+00]])"
      ]
     },
     "execution_count": 5,
     "metadata": {},
     "output_type": "execute_result"
    }
   ],
   "source": [
    "invRandMat = randMat.I\n",
    "randMat * invRandMat"
   ]
  },
  {
   "cell_type": "code",
   "execution_count": 6,
   "metadata": {
    "collapsed": false
   },
   "outputs": [
    {
     "data": {
      "text/plain": [
       "array([[ 1.,  0.,  0.,  0.],\n",
       "       [ 0.,  1.,  0.,  0.],\n",
       "       [ 0.,  0.,  1.,  0.],\n",
       "       [ 0.,  0.,  0.,  1.]])"
      ]
     },
     "execution_count": 6,
     "metadata": {},
     "output_type": "execute_result"
    }
   ],
   "source": [
    "eye(4)"
   ]
  },
  {
   "cell_type": "code",
   "execution_count": null,
   "metadata": {
    "collapsed": true
   },
   "outputs": [],
   "source": []
  }
 ],
 "metadata": {
  "kernelspec": {
   "display_name": "Python 2",
   "language": "python",
   "name": "python2"
  },
  "language_info": {
   "codemirror_mode": {
    "name": "ipython",
    "version": 2
   },
   "file_extension": ".py",
   "mimetype": "text/x-python",
   "name": "python",
   "nbconvert_exporter": "python",
   "pygments_lexer": "ipython2",
   "version": "2.7.12"
  }
 },
 "nbformat": 4,
 "nbformat_minor": 1
}
